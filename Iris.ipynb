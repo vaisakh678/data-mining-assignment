{
  "nbformat": 4,
  "nbformat_minor": 0,
  "metadata": {
    "colab": {
      "name": "DMA_Classification_Assignment_IRIS.ipynb",
      "provenance": [],
      "collapsed_sections": [
        "lbdnC6smdomC",
        "BCqXEzFHOUth",
        "VG6oTDNYOSYW",
        "1XxONFLPOU_8"
      ]
    },
    "kernelspec": {
      "name": "python3",
      "display_name": "Python 3"
    },
    "language_info": {
      "name": "python"
    }
  },
  "cells": [
    {
      "cell_type": "code",
      "execution_count": null,
      "metadata": {
        "id": "chXRKTCNYMHC"
      },
      "outputs": [],
      "source": [
        "import pandas as pd\n",
        "from sklearn.preprocessing import LabelEncoder\n",
        "from sklearn.model_selection import train_test_split\n",
        "\n",
        "# Classifiers\n",
        "from sklearn.neighbors import KNeighborsClassifier # KNN Classifier\n",
        "from sklearn import svm # SVM Classifier\n",
        "from sklearn.tree import DecisionTreeClassifier # Decision Tree Classifier\n",
        "from sklearn.naive_bayes import GaussianNB # Naive Bayes Classifier (Gaussian) \n",
        "\n",
        "# Performance Metrics\n",
        "from sklearn.metrics import confusion_matrix, accuracy_score, precision_score, recall_score\n",
        "\n",
        "# K-Fold Cross Validation\n",
        "from sklearn.model_selection import cross_val_score"
      ]
    },
    {
      "cell_type": "markdown",
      "source": [
        "<h1 color=\"yellow\">Preprocessing</h1>"
      ],
      "metadata": {
        "id": "7ZRoGGMXdeZ4"
      }
    },
    {
      "cell_type": "code",
      "source": [
        "iris_data_set = pd.read_csv('/content/drive/MyDrive/Colab Notebooks/Datasets/Iris.csv')"
      ],
      "metadata": {
        "id": "TdrlvO61ZIbC"
      },
      "execution_count": null,
      "outputs": []
    },
    {
      "cell_type": "code",
      "source": [
        "iris_data_set.head()"
      ],
      "metadata": {
        "id": "NnUPWfqsaNS5",
        "colab": {
          "base_uri": "https://localhost:8080/",
          "height": 206
        },
        "outputId": "5811560c-954d-4c8f-fd86-c9431a13d7f1"
      },
      "execution_count": null,
      "outputs": [
        {
          "output_type": "execute_result",
          "data": {
            "text/plain": [
              "   Id  SepalLengthCm  SepalWidthCm  PetalLengthCm  PetalWidthCm      Species\n",
              "0   1            5.1           3.5            1.4           0.2  Iris-setosa\n",
              "1   2            4.9           3.0            1.4           0.2  Iris-setosa\n",
              "2   3            4.7           3.2            1.3           0.2  Iris-setosa\n",
              "3   4            4.6           3.1            1.5           0.2  Iris-setosa\n",
              "4   5            5.0           3.6            1.4           0.2  Iris-setosa"
            ],
            "text/html": [
              "\n",
              "  <div id=\"df-9561f544-2d38-4561-87c0-8bf353d9e22e\">\n",
              "    <div class=\"colab-df-container\">\n",
              "      <div>\n",
              "<style scoped>\n",
              "    .dataframe tbody tr th:only-of-type {\n",
              "        vertical-align: middle;\n",
              "    }\n",
              "\n",
              "    .dataframe tbody tr th {\n",
              "        vertical-align: top;\n",
              "    }\n",
              "\n",
              "    .dataframe thead th {\n",
              "        text-align: right;\n",
              "    }\n",
              "</style>\n",
              "<table border=\"1\" class=\"dataframe\">\n",
              "  <thead>\n",
              "    <tr style=\"text-align: right;\">\n",
              "      <th></th>\n",
              "      <th>Id</th>\n",
              "      <th>SepalLengthCm</th>\n",
              "      <th>SepalWidthCm</th>\n",
              "      <th>PetalLengthCm</th>\n",
              "      <th>PetalWidthCm</th>\n",
              "      <th>Species</th>\n",
              "    </tr>\n",
              "  </thead>\n",
              "  <tbody>\n",
              "    <tr>\n",
              "      <th>0</th>\n",
              "      <td>1</td>\n",
              "      <td>5.1</td>\n",
              "      <td>3.5</td>\n",
              "      <td>1.4</td>\n",
              "      <td>0.2</td>\n",
              "      <td>Iris-setosa</td>\n",
              "    </tr>\n",
              "    <tr>\n",
              "      <th>1</th>\n",
              "      <td>2</td>\n",
              "      <td>4.9</td>\n",
              "      <td>3.0</td>\n",
              "      <td>1.4</td>\n",
              "      <td>0.2</td>\n",
              "      <td>Iris-setosa</td>\n",
              "    </tr>\n",
              "    <tr>\n",
              "      <th>2</th>\n",
              "      <td>3</td>\n",
              "      <td>4.7</td>\n",
              "      <td>3.2</td>\n",
              "      <td>1.3</td>\n",
              "      <td>0.2</td>\n",
              "      <td>Iris-setosa</td>\n",
              "    </tr>\n",
              "    <tr>\n",
              "      <th>3</th>\n",
              "      <td>4</td>\n",
              "      <td>4.6</td>\n",
              "      <td>3.1</td>\n",
              "      <td>1.5</td>\n",
              "      <td>0.2</td>\n",
              "      <td>Iris-setosa</td>\n",
              "    </tr>\n",
              "    <tr>\n",
              "      <th>4</th>\n",
              "      <td>5</td>\n",
              "      <td>5.0</td>\n",
              "      <td>3.6</td>\n",
              "      <td>1.4</td>\n",
              "      <td>0.2</td>\n",
              "      <td>Iris-setosa</td>\n",
              "    </tr>\n",
              "  </tbody>\n",
              "</table>\n",
              "</div>\n",
              "      <button class=\"colab-df-convert\" onclick=\"convertToInteractive('df-9561f544-2d38-4561-87c0-8bf353d9e22e')\"\n",
              "              title=\"Convert this dataframe to an interactive table.\"\n",
              "              style=\"display:none;\">\n",
              "        \n",
              "  <svg xmlns=\"http://www.w3.org/2000/svg\" height=\"24px\"viewBox=\"0 0 24 24\"\n",
              "       width=\"24px\">\n",
              "    <path d=\"M0 0h24v24H0V0z\" fill=\"none\"/>\n",
              "    <path d=\"M18.56 5.44l.94 2.06.94-2.06 2.06-.94-2.06-.94-.94-2.06-.94 2.06-2.06.94zm-11 1L8.5 8.5l.94-2.06 2.06-.94-2.06-.94L8.5 2.5l-.94 2.06-2.06.94zm10 10l.94 2.06.94-2.06 2.06-.94-2.06-.94-.94-2.06-.94 2.06-2.06.94z\"/><path d=\"M17.41 7.96l-1.37-1.37c-.4-.4-.92-.59-1.43-.59-.52 0-1.04.2-1.43.59L10.3 9.45l-7.72 7.72c-.78.78-.78 2.05 0 2.83L4 21.41c.39.39.9.59 1.41.59.51 0 1.02-.2 1.41-.59l7.78-7.78 2.81-2.81c.8-.78.8-2.07 0-2.86zM5.41 20L4 18.59l7.72-7.72 1.47 1.35L5.41 20z\"/>\n",
              "  </svg>\n",
              "      </button>\n",
              "      \n",
              "  <style>\n",
              "    .colab-df-container {\n",
              "      display:flex;\n",
              "      flex-wrap:wrap;\n",
              "      gap: 12px;\n",
              "    }\n",
              "\n",
              "    .colab-df-convert {\n",
              "      background-color: #E8F0FE;\n",
              "      border: none;\n",
              "      border-radius: 50%;\n",
              "      cursor: pointer;\n",
              "      display: none;\n",
              "      fill: #1967D2;\n",
              "      height: 32px;\n",
              "      padding: 0 0 0 0;\n",
              "      width: 32px;\n",
              "    }\n",
              "\n",
              "    .colab-df-convert:hover {\n",
              "      background-color: #E2EBFA;\n",
              "      box-shadow: 0px 1px 2px rgba(60, 64, 67, 0.3), 0px 1px 3px 1px rgba(60, 64, 67, 0.15);\n",
              "      fill: #174EA6;\n",
              "    }\n",
              "\n",
              "    [theme=dark] .colab-df-convert {\n",
              "      background-color: #3B4455;\n",
              "      fill: #D2E3FC;\n",
              "    }\n",
              "\n",
              "    [theme=dark] .colab-df-convert:hover {\n",
              "      background-color: #434B5C;\n",
              "      box-shadow: 0px 1px 3px 1px rgba(0, 0, 0, 0.15);\n",
              "      filter: drop-shadow(0px 1px 2px rgba(0, 0, 0, 0.3));\n",
              "      fill: #FFFFFF;\n",
              "    }\n",
              "  </style>\n",
              "\n",
              "      <script>\n",
              "        const buttonEl =\n",
              "          document.querySelector('#df-9561f544-2d38-4561-87c0-8bf353d9e22e button.colab-df-convert');\n",
              "        buttonEl.style.display =\n",
              "          google.colab.kernel.accessAllowed ? 'block' : 'none';\n",
              "\n",
              "        async function convertToInteractive(key) {\n",
              "          const element = document.querySelector('#df-9561f544-2d38-4561-87c0-8bf353d9e22e');\n",
              "          const dataTable =\n",
              "            await google.colab.kernel.invokeFunction('convertToInteractive',\n",
              "                                                     [key], {});\n",
              "          if (!dataTable) return;\n",
              "\n",
              "          const docLinkHtml = 'Like what you see? Visit the ' +\n",
              "            '<a target=\"_blank\" href=https://colab.research.google.com/notebooks/data_table.ipynb>data table notebook</a>'\n",
              "            + ' to learn more about interactive tables.';\n",
              "          element.innerHTML = '';\n",
              "          dataTable['output_type'] = 'display_data';\n",
              "          await google.colab.output.renderOutput(dataTable, element);\n",
              "          const docLink = document.createElement('div');\n",
              "          docLink.innerHTML = docLinkHtml;\n",
              "          element.appendChild(docLink);\n",
              "        }\n",
              "      </script>\n",
              "    </div>\n",
              "  </div>\n",
              "  "
            ]
          },
          "metadata": {},
          "execution_count": 3
        }
      ]
    },
    {
      "cell_type": "code",
      "source": [
        "iris_data_set = iris_data_set.drop('Id', axis=1)"
      ],
      "metadata": {
        "id": "uSz5XlkeaXdd"
      },
      "execution_count": null,
      "outputs": []
    },
    {
      "cell_type": "code",
      "source": [
        "le = LabelEncoder()\n",
        "iris_data_set['Species'] = le.fit_transform(iris_data_set['Species'])"
      ],
      "metadata": {
        "id": "jdSH5YaNbk5i"
      },
      "execution_count": null,
      "outputs": []
    },
    {
      "cell_type": "code",
      "source": [
        "iris_data_set.info()"
      ],
      "metadata": {
        "id": "u0f500SQhQcu",
        "colab": {
          "base_uri": "https://localhost:8080/"
        },
        "outputId": "f9d50004-6976-4dc3-f009-d46a3ce23b2e"
      },
      "execution_count": null,
      "outputs": [
        {
          "output_type": "stream",
          "name": "stdout",
          "text": [
            "<class 'pandas.core.frame.DataFrame'>\n",
            "RangeIndex: 150 entries, 0 to 149\n",
            "Data columns (total 5 columns):\n",
            " #   Column         Non-Null Count  Dtype  \n",
            "---  ------         --------------  -----  \n",
            " 0   SepalLengthCm  150 non-null    float64\n",
            " 1   SepalWidthCm   150 non-null    float64\n",
            " 2   PetalLengthCm  150 non-null    float64\n",
            " 3   PetalWidthCm   150 non-null    float64\n",
            " 4   Species        150 non-null    int64  \n",
            "dtypes: float64(4), int64(1)\n",
            "memory usage: 6.0 KB\n"
          ]
        }
      ]
    },
    {
      "cell_type": "code",
      "source": [
        "iris_data_set.isnull().sum()"
      ],
      "metadata": {
        "id": "U2RVJFIdh2_R",
        "colab": {
          "base_uri": "https://localhost:8080/"
        },
        "outputId": "09b95608-c6e4-446d-a121-e868b94bf5c1"
      },
      "execution_count": null,
      "outputs": [
        {
          "output_type": "execute_result",
          "data": {
            "text/plain": [
              "SepalLengthCm    0\n",
              "SepalWidthCm     0\n",
              "PetalLengthCm    0\n",
              "PetalWidthCm     0\n",
              "Species          0\n",
              "dtype: int64"
            ]
          },
          "metadata": {},
          "execution_count": 7
        }
      ]
    },
    {
      "cell_type": "code",
      "source": [
        "iris_data_set['Species'].value_counts()"
      ],
      "metadata": {
        "id": "zse-4x2wiFOy",
        "colab": {
          "base_uri": "https://localhost:8080/"
        },
        "outputId": "76631df3-22ee-4f45-c40c-022c319ca3ed"
      },
      "execution_count": null,
      "outputs": [
        {
          "output_type": "execute_result",
          "data": {
            "text/plain": [
              "0    50\n",
              "1    50\n",
              "2    50\n",
              "Name: Species, dtype: int64"
            ]
          },
          "metadata": {},
          "execution_count": 8
        }
      ]
    },
    {
      "cell_type": "markdown",
      "source": [
        "DATASET DIVISION"
      ],
      "metadata": {
        "id": "zM2z3vZ3djx6"
      }
    },
    {
      "cell_type": "code",
      "source": [
        "x = iris_data_set.iloc[:,:-1].values\n",
        "y = iris_data_set.iloc[:, -1].values"
      ],
      "metadata": {
        "id": "9LooDWzeiSAO"
      },
      "execution_count": null,
      "outputs": []
    },
    {
      "cell_type": "code",
      "source": [
        "x_train, x_test, y_train, y_test = train_test_split(x, y, test_size = 0.20, random_state = 0)\n",
        "print(x_test)"
      ],
      "metadata": {
        "id": "y1iSHSQBepOn",
        "colab": {
          "base_uri": "https://localhost:8080/"
        },
        "outputId": "3bd46b11-b1c2-469b-d3b1-7a4f627be14c"
      },
      "execution_count": null,
      "outputs": [
        {
          "output_type": "stream",
          "name": "stdout",
          "text": [
            "[[5.8 2.8 5.1 2.4]\n",
            " [6.  2.2 4.  1. ]\n",
            " [5.5 4.2 1.4 0.2]\n",
            " [7.3 2.9 6.3 1.8]\n",
            " [5.  3.4 1.5 0.2]\n",
            " [6.3 3.3 6.  2.5]\n",
            " [5.  3.5 1.3 0.3]\n",
            " [6.7 3.1 4.7 1.5]\n",
            " [6.8 2.8 4.8 1.4]\n",
            " [6.1 2.8 4.  1.3]\n",
            " [6.1 2.6 5.6 1.4]\n",
            " [6.4 3.2 4.5 1.5]\n",
            " [6.1 2.8 4.7 1.2]\n",
            " [6.5 2.8 4.6 1.5]\n",
            " [6.1 2.9 4.7 1.4]\n",
            " [4.9 3.1 1.5 0.1]\n",
            " [6.  2.9 4.5 1.5]\n",
            " [5.5 2.6 4.4 1.2]\n",
            " [4.8 3.  1.4 0.3]\n",
            " [5.4 3.9 1.3 0.4]\n",
            " [5.6 2.8 4.9 2. ]\n",
            " [5.6 3.  4.5 1.5]\n",
            " [4.8 3.4 1.9 0.2]\n",
            " [4.4 2.9 1.4 0.2]\n",
            " [6.2 2.8 4.8 1.8]\n",
            " [4.6 3.6 1.  0.2]\n",
            " [5.1 3.8 1.9 0.4]\n",
            " [6.2 2.9 4.3 1.3]\n",
            " [5.  2.3 3.3 1. ]\n",
            " [5.  3.4 1.6 0.4]]\n"
          ]
        }
      ]
    },
    {
      "cell_type": "markdown",
      "source": [
        "# Classification using KNN\n",
        "\n",
        "[Accuracy Score, Precision Score, Recall Score]\n",
        "<hr width=\"38%\" align=\"left\">\n",
        "|&emsp;n-Value&emsp;|&emsp;Euclidean Distance&emsp;|&emsp;Minkowski Distance&emsp;|<br>\n",
        "<hr width=\"38%\" align=\"left\">\n",
        "|&emsp;&emsp;&nbsp;&nbsp;1&emsp;&emsp;&nbsp;|&emsp;&nbsp;&nbsp;&emsp;[1.0, 1.0, 1.0]&emsp;&emsp;&nbsp;|&emsp;&emsp;&emsp;[1.0, 1.0, 1.0]&emsp;&emsp;&nbsp;&nbsp;|<br>\n",
        "|&emsp;&emsp;&nbsp;&nbsp;5&emsp;&emsp;&nbsp;|&emsp;[ 0.96, 0.95, 0.97 ] &emsp;&nbsp;|&emsp;&emsp;[ 0.96, 0.95, 0.97 ]&emsp;&nbsp;&nbsp;|<br>\n",
        "|&emsp;&emsp;&nbsp;10&emsp;&emsp;|&emsp;&nbsp;&nbsp;&emsp;[1.0, 1.0, 1.0]&emsp;&emsp;&nbsp;|&emsp;&emsp;&emsp;[1.0, 1.0, 1.0]&emsp;&emsp;&nbsp;&nbsp;|<br>\n",
        "<hr width=\"38%\" align=\"left\">\n"
      ],
      "metadata": {
        "id": "lbdnC6smdomC"
      }
    },
    {
      "cell_type": "markdown",
      "source": [
        "n-value = 1"
      ],
      "metadata": {
        "id": "TLQw7iXoqLxF"
      }
    },
    {
      "cell_type": "code",
      "source": [
        "knn_classifier = KNeighborsClassifier(n_neighbors = 1, metric=\"minkowski\")\n",
        "knn_classifier.fit(x_train, y_train)\n",
        "y_pred = knn_classifier.predict(x_test)"
      ],
      "metadata": {
        "id": "KEAAnL57duCw"
      },
      "execution_count": null,
      "outputs": []
    },
    {
      "cell_type": "code",
      "source": [
        "cm = confusion_matrix(y_test, y_pred)\n",
        "a_score = accuracy_score(y_test, y_pred)\n",
        "p_score = precision_score(y_test, y_pred, average=\"macro\")\n",
        "r_score = recall_score(y_test, y_pred, average=\"macro\")\n",
        "\n",
        "print(cm, a_score, p_score, r_score, sep=\"\\n\")"
      ],
      "metadata": {
        "id": "wtDCgPnh-7id",
        "colab": {
          "base_uri": "https://localhost:8080/"
        },
        "outputId": "ee752f0a-d8d1-4aaa-e9e8-1af87f9e62fe"
      },
      "execution_count": null,
      "outputs": [
        {
          "output_type": "stream",
          "name": "stdout",
          "text": [
            "[[11  0  0]\n",
            " [ 0 13  0]\n",
            " [ 0  0  6]]\n",
            "1.0\n",
            "1.0\n",
            "1.0\n"
          ]
        }
      ]
    },
    {
      "cell_type": "code",
      "source": [
        "knn_classifier = KNeighborsClassifier(n_neighbors = 1, metric=\"euclidean\")\n",
        "knn_classifier.fit(x_train, y_train)\n",
        "y_pred = knn_classifier.predict(x_test)"
      ],
      "metadata": {
        "id": "KxIMMP3Wy7Hb"
      },
      "execution_count": null,
      "outputs": []
    },
    {
      "cell_type": "code",
      "source": [
        "cm = confusion_matrix(y_test, y_pred)\n",
        "a_score = accuracy_score(y_test, y_pred)\n",
        "p_score = precision_score(y_test, y_pred, average=\"macro\")\n",
        "r_score = recall_score(y_test, y_pred, average=\"macro\")\n",
        "\n",
        "print(cm, a_score, p_score, r_score, sep=\"\\n\")"
      ],
      "metadata": {
        "id": "6cixtSuiy7Pk",
        "colab": {
          "base_uri": "https://localhost:8080/"
        },
        "outputId": "c48c2b4f-f64e-4efb-9e72-a235607210d6"
      },
      "execution_count": null,
      "outputs": [
        {
          "output_type": "stream",
          "name": "stdout",
          "text": [
            "[[11  0  0]\n",
            " [ 0 13  0]\n",
            " [ 0  0  6]]\n",
            "1.0\n",
            "1.0\n",
            "1.0\n"
          ]
        }
      ]
    },
    {
      "cell_type": "markdown",
      "source": [
        "n-value = 5"
      ],
      "metadata": {
        "id": "dQwbOvHHqQRv"
      }
    },
    {
      "cell_type": "code",
      "source": [
        "knn_classifier = KNeighborsClassifier(n_neighbors = 5, metric=\"minkowski\")\n",
        "knn_classifier.fit(x_train, y_train)\n",
        "y_pred = knn_classifier.predict(x_test)"
      ],
      "metadata": {
        "id": "k-r1SDBWzM0S"
      },
      "execution_count": null,
      "outputs": []
    },
    {
      "cell_type": "code",
      "source": [
        "cm = confusion_matrix(y_test, y_pred)\n",
        "a_score = accuracy_score(y_test, y_pred)\n",
        "p_score = precision_score(y_test, y_pred, average=\"macro\")\n",
        "r_score = recall_score(y_test, y_pred, average=\"macro\")\n",
        "\n",
        "print(cm, a_score, p_score, r_score, sep=\"\\n\")"
      ],
      "metadata": {
        "id": "NGv7RepkzSPX",
        "colab": {
          "base_uri": "https://localhost:8080/"
        },
        "outputId": "dd7c9620-0773-42de-9fb6-f30a0185be7c"
      },
      "execution_count": null,
      "outputs": [
        {
          "output_type": "stream",
          "name": "stdout",
          "text": [
            "[[11  0  0]\n",
            " [ 0 12  1]\n",
            " [ 0  0  6]]\n",
            "0.9666666666666667\n",
            "0.9523809523809524\n",
            "0.9743589743589745\n"
          ]
        }
      ]
    },
    {
      "cell_type": "code",
      "source": [
        "knn_classifier = KNeighborsClassifier(n_neighbors = 5, metric=\"euclidean\")\n",
        "knn_classifier.fit(x_train, y_train)\n",
        "y_pred = knn_classifier.predict(x_test)"
      ],
      "metadata": {
        "id": "8NNWbHBBzTzS"
      },
      "execution_count": null,
      "outputs": []
    },
    {
      "cell_type": "code",
      "source": [
        "cm = confusion_matrix(y_test, y_pred)\n",
        "a_score = accuracy_score(y_test, y_pred)\n",
        "p_score = precision_score(y_test, y_pred, average=\"macro\")\n",
        "r_score = recall_score(y_test, y_pred, average=\"macro\")\n",
        "\n",
        "print(cm, a_score, p_score, r_score, sep=\"\\n\")"
      ],
      "metadata": {
        "id": "4lRUYnFbzV4I",
        "colab": {
          "base_uri": "https://localhost:8080/"
        },
        "outputId": "bd848c7d-aa9c-4c3c-9027-6cc810ccd689"
      },
      "execution_count": null,
      "outputs": [
        {
          "output_type": "stream",
          "name": "stdout",
          "text": [
            "[[11  0  0]\n",
            " [ 0 12  1]\n",
            " [ 0  0  6]]\n",
            "0.9666666666666667\n",
            "0.9523809523809524\n",
            "0.9743589743589745\n"
          ]
        }
      ]
    },
    {
      "cell_type": "markdown",
      "source": [
        "n-value = 10"
      ],
      "metadata": {
        "id": "NIbw2J5eqSd7"
      }
    },
    {
      "cell_type": "code",
      "source": [
        "knn_classifier = KNeighborsClassifier(n_neighbors = 10, metric=\"minkowski\")\n",
        "knn_classifier.fit(x_train, y_train)\n",
        "y_pred = knn_classifier.predict(x_test)"
      ],
      "metadata": {
        "id": "1yXLOlwjf7RV"
      },
      "execution_count": null,
      "outputs": []
    },
    {
      "cell_type": "code",
      "source": [
        "cm = confusion_matrix(y_test, y_pred)\n",
        "a_score = accuracy_score(y_test, y_pred)\n",
        "p_score = precision_score(y_test, y_pred, average=\"macro\")\n",
        "r_score = recall_score(y_test, y_pred, average=\"macro\")\n",
        "\n",
        "print(cm, a_score, p_score, r_score, sep=\"\\n\")"
      ],
      "metadata": {
        "id": "HiRyTV8Sf8qt",
        "colab": {
          "base_uri": "https://localhost:8080/"
        },
        "outputId": "be0157b8-1ea1-4dcb-80d9-7ed7d323decf"
      },
      "execution_count": null,
      "outputs": [
        {
          "output_type": "stream",
          "name": "stdout",
          "text": [
            "[[11  0  0]\n",
            " [ 0 13  0]\n",
            " [ 0  0  6]]\n",
            "1.0\n",
            "1.0\n",
            "1.0\n"
          ]
        }
      ]
    },
    {
      "cell_type": "code",
      "source": [
        "knn_classifier = KNeighborsClassifier(n_neighbors = 10, metric=\"euclidean\")\n",
        "knn_classifier.fit(x_train, y_train)\n",
        "y_pred = knn_classifier.predict(x_test)"
      ],
      "metadata": {
        "id": "6RpTsYQngBKu"
      },
      "execution_count": null,
      "outputs": []
    },
    {
      "cell_type": "code",
      "source": [
        "cm = confusion_matrix(y_test, y_pred)\n",
        "a_score = accuracy_score(y_test, y_pred)\n",
        "p_score = precision_score(y_test, y_pred, average=\"macro\")\n",
        "r_score = recall_score(y_test, y_pred, average=\"macro\")\n",
        "\n",
        "print(cm, a_score, p_score, r_score, sep=\"\\n\")"
      ],
      "metadata": {
        "id": "KHJodRZQgBSW",
        "colab": {
          "base_uri": "https://localhost:8080/"
        },
        "outputId": "71ef9665-1218-428e-f347-5cf3a768ac57"
      },
      "execution_count": null,
      "outputs": [
        {
          "output_type": "stream",
          "name": "stdout",
          "text": [
            "[[11  0  0]\n",
            " [ 0 13  0]\n",
            " [ 0  0  6]]\n",
            "1.0\n",
            "1.0\n",
            "1.0\n"
          ]
        }
      ]
    },
    {
      "cell_type": "markdown",
      "source": [
        "# Classification using Support Vector Machine\n",
        "\n",
        "[Accuracy Score, Precision Score, Recall Score]\n",
        "<hr width=\"22.5%\" align=\"left\">\n",
        "|&emsp;Kernal &emsp;&nbsp;|&emsp;&emsp;Metric Results&emsp;&emsp;|<br>\n",
        "<hr width=\"22.5%\" align=\"left\">\n",
        "|&emsp;Linear&emsp;&nbsp;&nbsp;&nbsp;|&emsp;&nbsp;&nbsp;&emsp;[1.0, 1.0, 1.0]&emsp;&emsp;&nbsp;|<br>\n",
        "|&emsp;&nbsp;&nbsp;RBF&emsp;&emsp;&nbsp;|&emsp;&nbsp;&nbsp;&emsp;[1.0, 1.0, 1.0]&emsp;&emsp;&nbsp;|<br>\n",
        "|&nbsp;Polynomial&nbsp;|&emsp;&nbsp;&nbsp;&emsp;[1.0, 1.0, 1.0]&emsp;&emsp;&nbsp;|<br>\n",
        "<hr width=\"22.5%\" align=\"left\">\n"
      ],
      "metadata": {
        "id": "BCqXEzFHOUth"
      }
    },
    {
      "cell_type": "markdown",
      "source": [
        "Polynomial Kernal"
      ],
      "metadata": {
        "id": "ms6YWR--p-WL"
      }
    },
    {
      "cell_type": "code",
      "source": [
        "svm_classifier = svm.SVC(kernel=\"poly\")\n",
        "svm_classifier.fit(x_train, y_train)\n",
        "\n",
        "y_pred = svm_classifier.predict(x_test)"
      ],
      "metadata": {
        "id": "7WN0LEuIRsqq"
      },
      "execution_count": null,
      "outputs": []
    },
    {
      "cell_type": "code",
      "source": [
        "cm = confusion_matrix(y_test, y_pred)\n",
        "a_score = accuracy_score(y_test, y_pred)\n",
        "p_score = precision_score(y_test, y_pred, average=\"macro\")\n",
        "r_score = recall_score(y_test, y_pred, average=\"macro\")\n",
        "\n",
        "print(cm, a_score, p_score, r_score, sep=\"\\n\")"
      ],
      "metadata": {
        "id": "uKMUB0b5SNVW",
        "colab": {
          "base_uri": "https://localhost:8080/"
        },
        "outputId": "c8d31898-6673-4e6c-c126-a4dd5a02f5be"
      },
      "execution_count": null,
      "outputs": [
        {
          "output_type": "stream",
          "name": "stdout",
          "text": [
            "[[11  0  0]\n",
            " [ 0 13  0]\n",
            " [ 0  0  6]]\n",
            "1.0\n",
            "1.0\n",
            "1.0\n"
          ]
        }
      ]
    },
    {
      "cell_type": "markdown",
      "source": [
        "Linear Kernal"
      ],
      "metadata": {
        "id": "cEATP4byqB0_"
      }
    },
    {
      "cell_type": "code",
      "source": [
        "svm_classifier = svm.SVC(kernel=\"linear\")\n",
        "svm_classifier.fit(x_train, y_train)\n",
        "\n",
        "y_pred = svm_classifier.predict(x_test)"
      ],
      "metadata": {
        "id": "rikuzZHvz6JF"
      },
      "execution_count": null,
      "outputs": []
    },
    {
      "cell_type": "code",
      "source": [
        "cm = confusion_matrix(y_test, y_pred)\n",
        "a_score = accuracy_score(y_test, y_pred)\n",
        "p_score = precision_score(y_test, y_pred, average=\"macro\")\n",
        "r_score = recall_score(y_test, y_pred, average=\"macro\")\n",
        "\n",
        "print(cm, a_score, p_score, r_score, sep=\"\\n\")"
      ],
      "metadata": {
        "id": "Q7KCLWt2z-Fi",
        "colab": {
          "base_uri": "https://localhost:8080/"
        },
        "outputId": "c93f2daf-a589-4dff-cae5-9cf0d58deb2f"
      },
      "execution_count": null,
      "outputs": [
        {
          "output_type": "stream",
          "name": "stdout",
          "text": [
            "[[11  0  0]\n",
            " [ 0 13  0]\n",
            " [ 0  0  6]]\n",
            "1.0\n",
            "1.0\n",
            "1.0\n"
          ]
        }
      ]
    },
    {
      "cell_type": "markdown",
      "source": [
        "Radial Basis Function Kernal"
      ],
      "metadata": {
        "id": "b_W9kGfZqFIz"
      }
    },
    {
      "cell_type": "code",
      "source": [
        "svm_classifier = svm.SVC(kernel=\"rbf\")\n",
        "svm_classifier.fit(x_train, y_train)\n",
        "\n",
        "y_pred = svm_classifier.predict(x_test)"
      ],
      "metadata": {
        "id": "rXSWtRpZz-oY"
      },
      "execution_count": null,
      "outputs": []
    },
    {
      "cell_type": "code",
      "source": [
        "cm = confusion_matrix(y_test, y_pred)\n",
        "a_score = accuracy_score(y_test, y_pred)\n",
        "p_score = precision_score(y_test, y_pred, average=\"macro\")\n",
        "r_score = recall_score(y_test, y_pred, average=\"macro\")\n",
        "\n",
        "print(cm, a_score, p_score, r_score, sep=\"\\n\")"
      ],
      "metadata": {
        "id": "dCPbU_uUz-xN",
        "colab": {
          "base_uri": "https://localhost:8080/"
        },
        "outputId": "38a4f620-e70d-4e3d-ae51-bafb5ad254e2"
      },
      "execution_count": null,
      "outputs": [
        {
          "output_type": "stream",
          "name": "stdout",
          "text": [
            "[[11  0  0]\n",
            " [ 0 13  0]\n",
            " [ 0  0  6]]\n",
            "1.0\n",
            "1.0\n",
            "1.0\n"
          ]
        }
      ]
    },
    {
      "cell_type": "markdown",
      "source": [
        "# Classification using Decision Tree\n",
        "\n",
        "[Accuracy Score, Precision Score, Recall Score]\n",
        "<hr width=\"27%\" align=\"left\">\n",
        "|&emsp;Criterion&nbsp;&nbsp;|&emsp;Splitter&emsp;&nbsp;|&emsp;Metric Result&emsp;|<br>\n",
        "|&emsp;entropy&emsp;|&emsp;&nbsp;&nbsp;best&emsp;&emsp;|&emsp;[1.0, 1.0, 1.0]&emsp;&nbsp;|<br>\n",
        "|&emsp;entropy&emsp;|&emsp;random&emsp;|&nbsp;[0.96, 0.97, 0.94]&nbsp;&nbsp;|<br>\n",
        "<hr width=\"27%\" align=\"left\">\n"
      ],
      "metadata": {
        "id": "VG6oTDNYOSYW"
      }
    },
    {
      "cell_type": "markdown",
      "source": [
        "Information Gain, with Best Splitter"
      ],
      "metadata": {
        "id": "2aPzoKhBpxGt"
      }
    },
    {
      "cell_type": "code",
      "source": [
        "dt_classifier = DecisionTreeClassifier(criterion=\"entropy\", splitter=\"best\")\n",
        "dt_classifier.fit(x_train, y_train)\n",
        "y_pred = dt_classifier.predict(x_test)"
      ],
      "metadata": {
        "id": "akm5DPpDdtbV"
      },
      "execution_count": null,
      "outputs": []
    },
    {
      "cell_type": "code",
      "source": [
        "cm = confusion_matrix(y_test, y_pred)\n",
        "a_score = accuracy_score(y_test, y_pred)\n",
        "p_score = precision_score(y_test, y_pred, average=\"macro\")\n",
        "r_score = recall_score(y_test, y_pred, average=\"macro\")\n",
        "\n",
        "print(cm, a_score, p_score, r_score, sep=\"\\n\")"
      ],
      "metadata": {
        "id": "TdEQZtx6b3-s",
        "colab": {
          "base_uri": "https://localhost:8080/"
        },
        "outputId": "6b222c5a-6e48-40a4-a416-95bc8921dced"
      },
      "execution_count": null,
      "outputs": [
        {
          "output_type": "stream",
          "name": "stdout",
          "text": [
            "[[11  0  0]\n",
            " [ 0 13  0]\n",
            " [ 0  0  6]]\n",
            "1.0\n",
            "1.0\n",
            "1.0\n"
          ]
        }
      ]
    },
    {
      "cell_type": "markdown",
      "source": [
        "Information Gain with Random Splitter"
      ],
      "metadata": {
        "id": "GEgASP8kp1jp"
      }
    },
    {
      "cell_type": "code",
      "source": [
        "dt_classifier = DecisionTreeClassifier(criterion=\"entropy\", splitter=\"random\")\n",
        "dt_classifier.fit(x_train, y_train)\n",
        "y_pred = dt_classifier.predict(x_test)"
      ],
      "metadata": {
        "id": "LR2r4wuDe6CK"
      },
      "execution_count": null,
      "outputs": []
    },
    {
      "cell_type": "code",
      "source": [
        "cm = confusion_matrix(y_test, y_pred)\n",
        "a_score = accuracy_score(y_test, y_pred)\n",
        "p_score = precision_score(y_test, y_pred, average=\"macro\")\n",
        "r_score = recall_score(y_test, y_pred, average=\"macro\")\n",
        "\n",
        "print(cm, a_score, p_score, r_score, sep=\"\\n\")"
      ],
      "metadata": {
        "id": "Q2tAuLbke7Bd",
        "colab": {
          "base_uri": "https://localhost:8080/"
        },
        "outputId": "882db811-dce5-48f4-cb38-e0a1d036f184"
      },
      "execution_count": null,
      "outputs": [
        {
          "output_type": "stream",
          "name": "stdout",
          "text": [
            "[[11  0  0]\n",
            " [ 0 13  0]\n",
            " [ 0  0  6]]\n",
            "1.0\n",
            "1.0\n",
            "1.0\n"
          ]
        }
      ]
    },
    {
      "cell_type": "markdown",
      "source": [
        "# Classification using Naive Bayes\n",
        "\n",
        "[Accuracy Score, Precision Score, Recall Score]<br>\n",
        "[0.96, 0.97. 0.94]\n",
        "<hr width=\"38%\" align=\"left\">\n"
      ],
      "metadata": {
        "id": "1XxONFLPOU_8"
      }
    },
    {
      "cell_type": "code",
      "source": [
        "gnb_classifier = GaussianNB()"
      ],
      "metadata": {
        "id": "M_2-JaJDcc9S"
      },
      "execution_count": null,
      "outputs": []
    },
    {
      "cell_type": "code",
      "source": [
        "gnb_classifier.fit(x_train, y_train)\n",
        "y_pred = gnb_classifier.predict(x_test)"
      ],
      "metadata": {
        "id": "2Q5CvKpNczOD"
      },
      "execution_count": null,
      "outputs": []
    },
    {
      "cell_type": "code",
      "source": [
        "cm = confusion_matrix(y_test, y_pred)\n",
        "a_score = accuracy_score(y_test, y_pred)\n",
        "p_score = precision_score(y_test, y_pred, average=\"macro\")\n",
        "r_score = recall_score(y_test, y_pred, average=\"macro\")\n",
        "\n",
        "print(cm, a_score, p_score, r_score, sep=\"\\n\")"
      ],
      "metadata": {
        "id": "KxvDu3zPdDE3",
        "colab": {
          "base_uri": "https://localhost:8080/"
        },
        "outputId": "dc8ece87-87d9-4b3d-b358-b6ba23f53446"
      },
      "execution_count": null,
      "outputs": [
        {
          "output_type": "stream",
          "name": "stdout",
          "text": [
            "[[11  0  0]\n",
            " [ 0 13  0]\n",
            " [ 0  1  5]]\n",
            "0.9666666666666667\n",
            "0.9761904761904763\n",
            "0.9444444444444445\n"
          ]
        }
      ]
    },
    {
      "cell_type": "markdown",
      "source": [
        ""
      ],
      "metadata": {
        "id": "BdkubaTXpmOe"
      }
    },
    {
      "cell_type": "markdown",
      "source": [
        "# K Fold Cross Validation\n",
        "> k=5\n",
        "  - KNN Classifier --> Accuracy = 0.98, SD = 0.03\n",
        "  - SVM Classifier --> Accuracy = 0.97, SD = 0.02\n",
        "  - Decision Tree Classifier --> Accuracy = 0.92, SD = 0.07\n",
        "  - Naive Bayes Classifier --> Accuracy = 0.95, SD = 0.03\n",
        "\n",
        "> k=4\n",
        "  - KNN Classifier --> Accuracy = 0.97, SD = 0.01\n",
        "  - SVM Classifier --> Accuracy = 0.97, SD = 0.02\n",
        "  - Decision Tree Classifier --> Accuracy = 0.95, SD = 0.01\n",
        "  - Naive Bayes Classifier --> Accuracy = 0.95, SD = 0.03"
      ],
      "metadata": {
        "id": "P8g-64VWlDvS"
      }
    },
    {
      "cell_type": "markdown",
      "source": [
        "k = 5"
      ],
      "metadata": {
        "id": "XaUjRFBrpqvw"
      }
    },
    {
      "cell_type": "code",
      "source": [
        "knn_scores = cross_val_score(knn_classifier, x, y, cv=5)\n",
        "print(\"%0.2f accuracy with a standard deviation of %0.2f\" % (knn_scores.mean(), knn_scores.std()))"
      ],
      "metadata": {
        "id": "lszouL-HmPWl",
        "colab": {
          "base_uri": "https://localhost:8080/"
        },
        "outputId": "1eeeb11b-27ce-4002-a070-6a3aff17ffd6"
      },
      "execution_count": null,
      "outputs": [
        {
          "output_type": "stream",
          "name": "stdout",
          "text": [
            "0.98 accuracy with a standard deviation of 0.03\n"
          ]
        }
      ]
    },
    {
      "cell_type": "code",
      "source": [
        "svm_scores = cross_val_score(svm_classifier, x, y, cv=5)\n",
        "print(\"%0.2f accuracy with a standard deviation of %0.2f\" % (svm_scores.mean(), svm_scores.std()))"
      ],
      "metadata": {
        "id": "rbzwFOuAmuqL",
        "colab": {
          "base_uri": "https://localhost:8080/"
        },
        "outputId": "f7042620-34c1-46b9-fb01-7301e783eb08"
      },
      "execution_count": null,
      "outputs": [
        {
          "output_type": "stream",
          "name": "stdout",
          "text": [
            "0.97 accuracy with a standard deviation of 0.02\n"
          ]
        }
      ]
    },
    {
      "cell_type": "code",
      "source": [
        "dt_scores = cross_val_score(dt_classifier, x, y, cv=5)\n",
        "print(\"%0.2f accuracy with a standard deviation of %0.2f\" % (dt_scores.mean(), dt_scores.std()))"
      ],
      "metadata": {
        "id": "AYhEerTWmuPF",
        "colab": {
          "base_uri": "https://localhost:8080/"
        },
        "outputId": "600ff68c-e228-42ce-a90e-2ea4375925a0"
      },
      "execution_count": null,
      "outputs": [
        {
          "output_type": "stream",
          "name": "stdout",
          "text": [
            "0.93 accuracy with a standard deviation of 0.05\n"
          ]
        }
      ]
    },
    {
      "cell_type": "code",
      "source": [
        "gnb_scores = cross_val_score(gnb_classifier, x, y, cv=5)\n",
        "print(\"%0.2f accuracy with a standard deviation of %0.2f\" % (gnb_scores.mean(), gnb_scores.std()))"
      ],
      "metadata": {
        "id": "shJdq3jWl4OQ",
        "colab": {
          "base_uri": "https://localhost:8080/"
        },
        "outputId": "b5102fb2-c0ea-475c-dc04-c72d8c0c74d6"
      },
      "execution_count": null,
      "outputs": [
        {
          "output_type": "stream",
          "name": "stdout",
          "text": [
            "0.95 accuracy with a standard deviation of 0.03\n"
          ]
        }
      ]
    },
    {
      "cell_type": "markdown",
      "source": [
        "k = 4"
      ],
      "metadata": {
        "id": "vydqETkBpehH"
      }
    },
    {
      "cell_type": "code",
      "source": [
        "knn_scores = cross_val_score(knn_classifier, x, y, cv=4)\n",
        "print(\"%0.2f accuracy with a standard deviation of %0.2f\" % (knn_scores.mean(), knn_scores.std()))"
      ],
      "metadata": {
        "id": "RiTptsuuo2wA",
        "colab": {
          "base_uri": "https://localhost:8080/"
        },
        "outputId": "8ca7f87a-41f0-4373-badc-500aabad281c"
      },
      "execution_count": null,
      "outputs": [
        {
          "output_type": "stream",
          "name": "stdout",
          "text": [
            "0.97 accuracy with a standard deviation of 0.01\n"
          ]
        }
      ]
    },
    {
      "cell_type": "code",
      "source": [
        "svm_scores = cross_val_score(svm_classifier, x, y, cv=4)\n",
        "print(\"%0.2f accuracy with a standard deviation of %0.2f\" % (svm_scores.mean(), svm_scores.std()))"
      ],
      "metadata": {
        "id": "iIm7T8YFo2_j",
        "colab": {
          "base_uri": "https://localhost:8080/"
        },
        "outputId": "e2dd2bfa-5bd7-4e4b-ad5a-9e3aa478d314"
      },
      "execution_count": null,
      "outputs": [
        {
          "output_type": "stream",
          "name": "stdout",
          "text": [
            "0.97 accuracy with a standard deviation of 0.02\n"
          ]
        }
      ]
    },
    {
      "cell_type": "code",
      "source": [
        "dt_scores = cross_val_score(dt_classifier, x, y, cv=4)\n",
        "print(\"%0.2f accuracy with a standard deviation of %0.2f\" % (dt_scores.mean(), dt_scores.std()))"
      ],
      "metadata": {
        "id": "6LdDgFJWo3Ix",
        "colab": {
          "base_uri": "https://localhost:8080/"
        },
        "outputId": "314a722c-8837-4901-ed1f-efe51741a935"
      },
      "execution_count": null,
      "outputs": [
        {
          "output_type": "stream",
          "name": "stdout",
          "text": [
            "0.95 accuracy with a standard deviation of 0.04\n"
          ]
        }
      ]
    },
    {
      "cell_type": "code",
      "source": [
        "gnb_scores = cross_val_score(gnb_classifier, x, y, cv=4)\n",
        "print(\"%0.2f accuracy with a standard deviation of %0.2f\" % (gnb_scores.mean(), gnb_scores.std()))"
      ],
      "metadata": {
        "id": "nGMW05RFo3Qr",
        "colab": {
          "base_uri": "https://localhost:8080/"
        },
        "outputId": "849c5540-ca94-4f80-d3f4-9a21bfc45037"
      },
      "execution_count": null,
      "outputs": [
        {
          "output_type": "stream",
          "name": "stdout",
          "text": [
            "0.95 accuracy with a standard deviation of 0.03\n"
          ]
        }
      ]
    }
  ]
}